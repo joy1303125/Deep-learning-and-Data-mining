{
  "nbformat": 4,
  "nbformat_minor": 0,
  "metadata": {
    "colab": {
      "name": "Anomaly_detection_ofECGTEST_by using autoencoders(Adding_denoising).ipynb",
      "provenance": [],
      "collapsed_sections": []
    },
    "kernelspec": {
      "name": "python3",
      "display_name": "Python 3"
    },
    "language_info": {
      "name": "python"
    },
    "accelerator": "GPU"
  },
  "cells": [
    {
      "cell_type": "code",
      "metadata": {
        "colab": {
          "base_uri": "https://localhost:8080/"
        },
        "id": "5CUOVSgImm5u",
        "outputId": "87472afe-b854-4a5d-dfa1-b81e951fd89d"
      },
      "source": [
        "!pip install tensorflow-gpu"
      ],
      "execution_count": 1,
      "outputs": [
        {
          "output_type": "stream",
          "text": [
            "Requirement already satisfied: tensorflow-gpu in /usr/local/lib/python3.7/dist-packages (2.4.1)\n",
            "Requirement already satisfied: h5py~=2.10.0 in /usr/local/lib/python3.7/dist-packages (from tensorflow-gpu) (2.10.0)\n",
            "Requirement already satisfied: opt-einsum~=3.3.0 in /usr/local/lib/python3.7/dist-packages (from tensorflow-gpu) (3.3.0)\n",
            "Requirement already satisfied: termcolor~=1.1.0 in /usr/local/lib/python3.7/dist-packages (from tensorflow-gpu) (1.1.0)\n",
            "Requirement already satisfied: typing-extensions~=3.7.4 in /usr/local/lib/python3.7/dist-packages (from tensorflow-gpu) (3.7.4.3)\n",
            "Requirement already satisfied: wheel~=0.35 in /usr/local/lib/python3.7/dist-packages (from tensorflow-gpu) (0.36.2)\n",
            "Requirement already satisfied: keras-preprocessing~=1.1.2 in /usr/local/lib/python3.7/dist-packages (from tensorflow-gpu) (1.1.2)\n",
            "Requirement already satisfied: absl-py~=0.10 in /usr/local/lib/python3.7/dist-packages (from tensorflow-gpu) (0.12.0)\n",
            "Requirement already satisfied: wrapt~=1.12.1 in /usr/local/lib/python3.7/dist-packages (from tensorflow-gpu) (1.12.1)\n",
            "Requirement already satisfied: gast==0.3.3 in /usr/local/lib/python3.7/dist-packages (from tensorflow-gpu) (0.3.3)\n",
            "Requirement already satisfied: numpy~=1.19.2 in /usr/local/lib/python3.7/dist-packages (from tensorflow-gpu) (1.19.5)\n",
            "Requirement already satisfied: grpcio~=1.32.0 in /usr/local/lib/python3.7/dist-packages (from tensorflow-gpu) (1.32.0)\n",
            "Requirement already satisfied: tensorflow-estimator<2.5.0,>=2.4.0 in /usr/local/lib/python3.7/dist-packages (from tensorflow-gpu) (2.4.0)\n",
            "Requirement already satisfied: astunparse~=1.6.3 in /usr/local/lib/python3.7/dist-packages (from tensorflow-gpu) (1.6.3)\n",
            "Requirement already satisfied: tensorboard~=2.4 in /usr/local/lib/python3.7/dist-packages (from tensorflow-gpu) (2.4.1)\n",
            "Requirement already satisfied: google-pasta~=0.2 in /usr/local/lib/python3.7/dist-packages (from tensorflow-gpu) (0.2.0)\n",
            "Requirement already satisfied: six~=1.15.0 in /usr/local/lib/python3.7/dist-packages (from tensorflow-gpu) (1.15.0)\n",
            "Requirement already satisfied: protobuf>=3.9.2 in /usr/local/lib/python3.7/dist-packages (from tensorflow-gpu) (3.12.4)\n",
            "Requirement already satisfied: flatbuffers~=1.12.0 in /usr/local/lib/python3.7/dist-packages (from tensorflow-gpu) (1.12)\n",
            "Requirement already satisfied: werkzeug>=0.11.15 in /usr/local/lib/python3.7/dist-packages (from tensorboard~=2.4->tensorflow-gpu) (1.0.1)\n",
            "Requirement already satisfied: setuptools>=41.0.0 in /usr/local/lib/python3.7/dist-packages (from tensorboard~=2.4->tensorflow-gpu) (54.2.0)\n",
            "Requirement already satisfied: markdown>=2.6.8 in /usr/local/lib/python3.7/dist-packages (from tensorboard~=2.4->tensorflow-gpu) (3.3.4)\n",
            "Requirement already satisfied: google-auth<2,>=1.6.3 in /usr/local/lib/python3.7/dist-packages (from tensorboard~=2.4->tensorflow-gpu) (1.28.1)\n",
            "Requirement already satisfied: google-auth-oauthlib<0.5,>=0.4.1 in /usr/local/lib/python3.7/dist-packages (from tensorboard~=2.4->tensorflow-gpu) (0.4.4)\n",
            "Requirement already satisfied: tensorboard-plugin-wit>=1.6.0 in /usr/local/lib/python3.7/dist-packages (from tensorboard~=2.4->tensorflow-gpu) (1.8.0)\n",
            "Requirement already satisfied: requests<3,>=2.21.0 in /usr/local/lib/python3.7/dist-packages (from tensorboard~=2.4->tensorflow-gpu) (2.23.0)\n",
            "Requirement already satisfied: importlib-metadata; python_version < \"3.8\" in /usr/local/lib/python3.7/dist-packages (from markdown>=2.6.8->tensorboard~=2.4->tensorflow-gpu) (3.10.0)\n",
            "Requirement already satisfied: cachetools<5.0,>=2.0.0 in /usr/local/lib/python3.7/dist-packages (from google-auth<2,>=1.6.3->tensorboard~=2.4->tensorflow-gpu) (4.2.1)\n",
            "Requirement already satisfied: rsa<5,>=3.1.4; python_version >= \"3.6\" in /usr/local/lib/python3.7/dist-packages (from google-auth<2,>=1.6.3->tensorboard~=2.4->tensorflow-gpu) (4.7.2)\n",
            "Requirement already satisfied: pyasn1-modules>=0.2.1 in /usr/local/lib/python3.7/dist-packages (from google-auth<2,>=1.6.3->tensorboard~=2.4->tensorflow-gpu) (0.2.8)\n",
            "Requirement already satisfied: requests-oauthlib>=0.7.0 in /usr/local/lib/python3.7/dist-packages (from google-auth-oauthlib<0.5,>=0.4.1->tensorboard~=2.4->tensorflow-gpu) (1.3.0)\n",
            "Requirement already satisfied: urllib3!=1.25.0,!=1.25.1,<1.26,>=1.21.1 in /usr/local/lib/python3.7/dist-packages (from requests<3,>=2.21.0->tensorboard~=2.4->tensorflow-gpu) (1.24.3)\n",
            "Requirement already satisfied: idna<3,>=2.5 in /usr/local/lib/python3.7/dist-packages (from requests<3,>=2.21.0->tensorboard~=2.4->tensorflow-gpu) (2.10)\n",
            "Requirement already satisfied: chardet<4,>=3.0.2 in /usr/local/lib/python3.7/dist-packages (from requests<3,>=2.21.0->tensorboard~=2.4->tensorflow-gpu) (3.0.4)\n",
            "Requirement already satisfied: certifi>=2017.4.17 in /usr/local/lib/python3.7/dist-packages (from requests<3,>=2.21.0->tensorboard~=2.4->tensorflow-gpu) (2020.12.5)\n",
            "Requirement already satisfied: zipp>=0.5 in /usr/local/lib/python3.7/dist-packages (from importlib-metadata; python_version < \"3.8\"->markdown>=2.6.8->tensorboard~=2.4->tensorflow-gpu) (3.4.1)\n",
            "Requirement already satisfied: pyasn1>=0.1.3 in /usr/local/lib/python3.7/dist-packages (from rsa<5,>=3.1.4; python_version >= \"3.6\"->google-auth<2,>=1.6.3->tensorboard~=2.4->tensorflow-gpu) (0.4.8)\n",
            "Requirement already satisfied: oauthlib>=3.0.0 in /usr/local/lib/python3.7/dist-packages (from requests-oauthlib>=0.7.0->google-auth-oauthlib<0.5,>=0.4.1->tensorboard~=2.4->tensorflow-gpu) (3.1.0)\n"
          ],
          "name": "stdout"
        }
      ]
    },
    {
      "cell_type": "code",
      "metadata": {
        "id": "veEBQpd7kT9Y"
      },
      "source": [
        "import pandas as pd\n",
        "import matplotlib as mpl\n",
        "import matplotlib.pyplot as plt\n",
        "\n",
        "import tensorflow as tf\n",
        "from tensorflow.keras.models import Model\n",
        "import numpy as np\n",
        "\n",
        "from sklearn.model_selection import train_test_split\n",
        "from sklearn.preprocessing import MinMaxScaler, StandardScaler\n",
        "\n",
        "mpl.rcParams['figure.figsize'] = (10, 8)\n",
        "mpl.rcParams['axes.grid'] = False"
      ],
      "execution_count": 2,
      "outputs": []
    },
    {
      "cell_type": "code",
      "metadata": {
        "id": "aRKQoo5Mm07l"
      },
      "source": [
        "!cat ECG5000_TRAIN.txt ECG5000_TEST.txt > ecg_final.txt"
      ],
      "execution_count": 3,
      "outputs": []
    },
    {
      "cell_type": "code",
      "metadata": {
        "colab": {
          "base_uri": "https://localhost:8080/"
        },
        "id": "RVD-U5pLml-L",
        "outputId": "97d81469-cb7c-4dd4-e9b0-ca076f5b35df"
      },
      "source": [
        "!wget http://www.timeseriesclassification.com/Downloads/ECG5000.zip\n",
        "!unzip ECG5000.zip"
      ],
      "execution_count": 4,
      "outputs": [
        {
          "output_type": "stream",
          "text": [
            "--2021-04-15 19:09:54--  http://www.timeseriesclassification.com/Downloads/ECG5000.zip\n",
            "Resolving www.timeseriesclassification.com (www.timeseriesclassification.com)... 109.123.71.232\n",
            "Connecting to www.timeseriesclassification.com (www.timeseriesclassification.com)|109.123.71.232|:80... connected.\n",
            "HTTP request sent, awaiting response... 200 OK\n",
            "Length: 10614407 (10M) [application/zip]\n",
            "Saving to: ‘ECG5000.zip.1’\n",
            "\n",
            "ECG5000.zip.1       100%[===================>]  10.12M  6.46MB/s    in 1.6s    \n",
            "\n",
            "2021-04-15 19:09:56 (6.46 MB/s) - ‘ECG5000.zip.1’ saved [10614407/10614407]\n",
            "\n",
            "Archive:  ECG5000.zip\n",
            "replace ECG5000.txt? [y]es, [n]o, [A]ll, [N]one, [r]ename: "
          ],
          "name": "stdout"
        }
      ]
    },
    {
      "cell_type": "code",
      "metadata": {
        "colab": {
          "base_uri": "https://localhost:8080/"
        },
        "id": "QJjbzjLhnJea",
        "outputId": "018551af-9627-44e0-9f66-b71582481694"
      },
      "source": [
        "\n",
        "!ls -alrt"
      ],
      "execution_count": 18,
      "outputs": [
        {
          "output_type": "stream",
          "text": [
            "total 58192\n",
            "-rw-r--r-- 1 root root 10614407 Aug  9  2019 ECG5000.zip.1\n",
            "-rw-r--r-- 1 root root 10614407 Aug  9  2019 ECG5000.zip\n",
            "-rw-r--r-- 1 root root       38 Aug  9  2019 ECG5000.txt\n",
            "-rw-r--r-- 1 root root  7086857 Aug  9  2019 ECG5000_TEST.arff\n",
            "-rw-r--r-- 1 root root  1128500 Aug  9  2019 ECG5000_TRAIN.txt\n",
            "-rw-r--r-- 1 root root   790229 Aug  9  2019 ECG5000_TRAIN.arff\n",
            "-rw-r--r-- 1 root root 10156500 Aug  9  2019 ECG5000_TEST.txt\n",
            "-rw-r--r-- 1 root root  7083409 Aug  9  2019 ECG5000_TEST.ts\n",
            "-rw-r--r-- 1 root root   786781 Aug  9  2019 ECG5000_TRAIN.ts\n",
            "drwxr-xr-x 4 root root     4096 Apr  7 13:35 .config\n",
            "drwxr-xr-x 1 root root     4096 Apr  7 13:36 sample_data\n",
            "drwxr-xr-x 1 root root     4096 Apr 15 17:35 ..\n",
            "drwxr-xr-x 1 root root     4096 Apr 15 19:09 .\n",
            "-rw-r--r-- 1 root root 11285000 Apr 15 19:13 ecg_final.txt\n"
          ],
          "name": "stdout"
        }
      ]
    },
    {
      "cell_type": "code",
      "metadata": {
        "id": "2eYyllHRnLNU"
      },
      "source": [
        "!cat ECG5000_TRAIN.txt ECG5000_TEST.txt > ecg_final.txt"
      ],
      "execution_count": 19,
      "outputs": []
    },
    {
      "cell_type": "code",
      "metadata": {
        "id": "0Fi1vrzEnSU1"
      },
      "source": [
        "df=pd.read_csv('ecg_final.txt', sep='  ', header=None)"
      ],
      "execution_count": null,
      "outputs": []
    },
    {
      "cell_type": "code",
      "metadata": {
        "colab": {
          "base_uri": "https://localhost:8080/",
          "height": 437
        },
        "id": "OJoGG4FRnYbb",
        "outputId": "c926949f-a318-4dfd-f299-ea47e02d0d2b"
      },
      "source": [
        "df\n"
      ],
      "execution_count": 20,
      "outputs": [
        {
          "output_type": "execute_result",
          "data": {
            "text/html": [
              "<div>\n",
              "<style scoped>\n",
              "    .dataframe tbody tr th:only-of-type {\n",
              "        vertical-align: middle;\n",
              "    }\n",
              "\n",
              "    .dataframe tbody tr th {\n",
              "        vertical-align: top;\n",
              "    }\n",
              "\n",
              "    .dataframe thead th {\n",
              "        text-align: right;\n",
              "    }\n",
              "</style>\n",
              "<table border=\"1\" class=\"dataframe\">\n",
              "  <thead>\n",
              "    <tr style=\"text-align: right;\">\n",
              "      <th></th>\n",
              "      <th>0</th>\n",
              "      <th>1</th>\n",
              "      <th>2</th>\n",
              "      <th>3</th>\n",
              "      <th>4</th>\n",
              "      <th>5</th>\n",
              "      <th>6</th>\n",
              "      <th>7</th>\n",
              "      <th>8</th>\n",
              "      <th>9</th>\n",
              "      <th>10</th>\n",
              "      <th>11</th>\n",
              "      <th>12</th>\n",
              "      <th>13</th>\n",
              "      <th>14</th>\n",
              "      <th>15</th>\n",
              "      <th>16</th>\n",
              "      <th>17</th>\n",
              "      <th>18</th>\n",
              "      <th>19</th>\n",
              "      <th>20</th>\n",
              "      <th>21</th>\n",
              "      <th>22</th>\n",
              "      <th>23</th>\n",
              "      <th>24</th>\n",
              "      <th>25</th>\n",
              "      <th>26</th>\n",
              "      <th>27</th>\n",
              "      <th>28</th>\n",
              "      <th>29</th>\n",
              "      <th>30</th>\n",
              "      <th>31</th>\n",
              "      <th>32</th>\n",
              "      <th>33</th>\n",
              "      <th>34</th>\n",
              "      <th>35</th>\n",
              "      <th>36</th>\n",
              "      <th>37</th>\n",
              "      <th>38</th>\n",
              "      <th>39</th>\n",
              "      <th>...</th>\n",
              "      <th>101</th>\n",
              "      <th>102</th>\n",
              "      <th>103</th>\n",
              "      <th>104</th>\n",
              "      <th>105</th>\n",
              "      <th>106</th>\n",
              "      <th>107</th>\n",
              "      <th>108</th>\n",
              "      <th>109</th>\n",
              "      <th>110</th>\n",
              "      <th>111</th>\n",
              "      <th>112</th>\n",
              "      <th>113</th>\n",
              "      <th>114</th>\n",
              "      <th>115</th>\n",
              "      <th>116</th>\n",
              "      <th>117</th>\n",
              "      <th>118</th>\n",
              "      <th>119</th>\n",
              "      <th>120</th>\n",
              "      <th>121</th>\n",
              "      <th>122</th>\n",
              "      <th>123</th>\n",
              "      <th>124</th>\n",
              "      <th>125</th>\n",
              "      <th>126</th>\n",
              "      <th>127</th>\n",
              "      <th>128</th>\n",
              "      <th>129</th>\n",
              "      <th>130</th>\n",
              "      <th>131</th>\n",
              "      <th>132</th>\n",
              "      <th>133</th>\n",
              "      <th>134</th>\n",
              "      <th>135</th>\n",
              "      <th>136</th>\n",
              "      <th>137</th>\n",
              "      <th>138</th>\n",
              "      <th>139</th>\n",
              "      <th>140</th>\n",
              "    </tr>\n",
              "  </thead>\n",
              "  <tbody>\n",
              "    <tr>\n",
              "      <th>0</th>\n",
              "      <td>1.0</td>\n",
              "      <td>-0.112522</td>\n",
              "      <td>-2.827204</td>\n",
              "      <td>-3.773897</td>\n",
              "      <td>-4.349751</td>\n",
              "      <td>-4.376041</td>\n",
              "      <td>-3.474986</td>\n",
              "      <td>-2.181408</td>\n",
              "      <td>-1.818287</td>\n",
              "      <td>-1.250522</td>\n",
              "      <td>-0.477492</td>\n",
              "      <td>-0.363808</td>\n",
              "      <td>-0.491957</td>\n",
              "      <td>-0.421855</td>\n",
              "      <td>-0.309201</td>\n",
              "      <td>-0.495939</td>\n",
              "      <td>-0.342119</td>\n",
              "      <td>-0.355336</td>\n",
              "      <td>-0.367913</td>\n",
              "      <td>-0.316503</td>\n",
              "      <td>-0.412374</td>\n",
              "      <td>-0.471672</td>\n",
              "      <td>-0.413458</td>\n",
              "      <td>-0.364617</td>\n",
              "      <td>-0.449298</td>\n",
              "      <td>-0.471419</td>\n",
              "      <td>-0.424777</td>\n",
              "      <td>-0.462517</td>\n",
              "      <td>-0.552472</td>\n",
              "      <td>-0.475375</td>\n",
              "      <td>-0.694200</td>\n",
              "      <td>-0.701868</td>\n",
              "      <td>-0.593812</td>\n",
              "      <td>-0.660684</td>\n",
              "      <td>-0.713831</td>\n",
              "      <td>-0.769807</td>\n",
              "      <td>-0.672282</td>\n",
              "      <td>-0.653676</td>\n",
              "      <td>-0.639406</td>\n",
              "      <td>-0.559302</td>\n",
              "      <td>...</td>\n",
              "      <td>1.173345</td>\n",
              "      <td>1.258179</td>\n",
              "      <td>1.433789</td>\n",
              "      <td>1.700533</td>\n",
              "      <td>1.999043</td>\n",
              "      <td>2.125341</td>\n",
              "      <td>1.993291</td>\n",
              "      <td>1.932246</td>\n",
              "      <td>1.797437</td>\n",
              "      <td>1.522284</td>\n",
              "      <td>1.251168</td>\n",
              "      <td>0.998730</td>\n",
              "      <td>0.483722</td>\n",
              "      <td>0.023132</td>\n",
              "      <td>-0.194914</td>\n",
              "      <td>-0.220917</td>\n",
              "      <td>-0.243737</td>\n",
              "      <td>-0.254695</td>\n",
              "      <td>-0.291136</td>\n",
              "      <td>-0.256490</td>\n",
              "      <td>-0.227874</td>\n",
              "      <td>-0.322423</td>\n",
              "      <td>-0.289286</td>\n",
              "      <td>-0.318170</td>\n",
              "      <td>-0.363654</td>\n",
              "      <td>-0.393456</td>\n",
              "      <td>-0.266419</td>\n",
              "      <td>-0.256823</td>\n",
              "      <td>-0.288694</td>\n",
              "      <td>-0.162338</td>\n",
              "      <td>0.160348</td>\n",
              "      <td>0.792168</td>\n",
              "      <td>0.933541</td>\n",
              "      <td>0.796958</td>\n",
              "      <td>0.578621</td>\n",
              "      <td>0.257740</td>\n",
              "      <td>0.228077</td>\n",
              "      <td>0.123431</td>\n",
              "      <td>0.925286</td>\n",
              "      <td>0.193137</td>\n",
              "    </tr>\n",
              "    <tr>\n",
              "      <th>1</th>\n",
              "      <td>1.0</td>\n",
              "      <td>-1.100878</td>\n",
              "      <td>-3.996840</td>\n",
              "      <td>-4.285843</td>\n",
              "      <td>-4.506579</td>\n",
              "      <td>-4.022377</td>\n",
              "      <td>-3.234368</td>\n",
              "      <td>-1.566126</td>\n",
              "      <td>-0.992258</td>\n",
              "      <td>-0.754680</td>\n",
              "      <td>0.042321</td>\n",
              "      <td>0.148951</td>\n",
              "      <td>0.183527</td>\n",
              "      <td>0.294876</td>\n",
              "      <td>0.190233</td>\n",
              "      <td>0.235575</td>\n",
              "      <td>0.253487</td>\n",
              "      <td>0.221742</td>\n",
              "      <td>0.050233</td>\n",
              "      <td>0.178042</td>\n",
              "      <td>0.139563</td>\n",
              "      <td>0.046794</td>\n",
              "      <td>0.043007</td>\n",
              "      <td>0.106544</td>\n",
              "      <td>0.012654</td>\n",
              "      <td>0.003995</td>\n",
              "      <td>0.045724</td>\n",
              "      <td>-0.045999</td>\n",
              "      <td>-0.072667</td>\n",
              "      <td>-0.071078</td>\n",
              "      <td>-0.153866</td>\n",
              "      <td>-0.227254</td>\n",
              "      <td>-0.249270</td>\n",
              "      <td>-0.253489</td>\n",
              "      <td>-0.332835</td>\n",
              "      <td>-0.264330</td>\n",
              "      <td>-0.345825</td>\n",
              "      <td>-0.310781</td>\n",
              "      <td>-0.334160</td>\n",
              "      <td>-0.306178</td>\n",
              "      <td>...</td>\n",
              "      <td>1.557410</td>\n",
              "      <td>1.808428</td>\n",
              "      <td>2.164346</td>\n",
              "      <td>2.070747</td>\n",
              "      <td>1.903614</td>\n",
              "      <td>1.764455</td>\n",
              "      <td>1.507769</td>\n",
              "      <td>1.293428</td>\n",
              "      <td>0.894562</td>\n",
              "      <td>0.578016</td>\n",
              "      <td>0.244343</td>\n",
              "      <td>-0.286443</td>\n",
              "      <td>-0.515881</td>\n",
              "      <td>-0.732707</td>\n",
              "      <td>-0.832465</td>\n",
              "      <td>-0.803318</td>\n",
              "      <td>-0.836252</td>\n",
              "      <td>-0.777865</td>\n",
              "      <td>-0.774753</td>\n",
              "      <td>-0.733404</td>\n",
              "      <td>-0.721386</td>\n",
              "      <td>-0.832095</td>\n",
              "      <td>-0.711982</td>\n",
              "      <td>-0.751867</td>\n",
              "      <td>-0.757720</td>\n",
              "      <td>-0.853120</td>\n",
              "      <td>-0.766988</td>\n",
              "      <td>-0.688161</td>\n",
              "      <td>-0.519923</td>\n",
              "      <td>0.039406</td>\n",
              "      <td>0.560327</td>\n",
              "      <td>0.538356</td>\n",
              "      <td>0.656881</td>\n",
              "      <td>0.787490</td>\n",
              "      <td>0.724046</td>\n",
              "      <td>0.555784</td>\n",
              "      <td>0.476333</td>\n",
              "      <td>0.773820</td>\n",
              "      <td>1.119621</td>\n",
              "      <td>-1.436250</td>\n",
              "    </tr>\n",
              "    <tr>\n",
              "      <th>2</th>\n",
              "      <td>1.0</td>\n",
              "      <td>-0.567088</td>\n",
              "      <td>-2.593450</td>\n",
              "      <td>-3.874230</td>\n",
              "      <td>-4.584095</td>\n",
              "      <td>-4.187449</td>\n",
              "      <td>-3.151462</td>\n",
              "      <td>-1.742940</td>\n",
              "      <td>-1.490658</td>\n",
              "      <td>-1.183580</td>\n",
              "      <td>-0.394229</td>\n",
              "      <td>-0.282897</td>\n",
              "      <td>-0.356926</td>\n",
              "      <td>-0.287297</td>\n",
              "      <td>-0.399489</td>\n",
              "      <td>-0.473244</td>\n",
              "      <td>-0.379048</td>\n",
              "      <td>-0.399039</td>\n",
              "      <td>-0.178594</td>\n",
              "      <td>-0.339522</td>\n",
              "      <td>-0.498447</td>\n",
              "      <td>-0.337251</td>\n",
              "      <td>-0.425480</td>\n",
              "      <td>-0.423952</td>\n",
              "      <td>-0.463170</td>\n",
              "      <td>-0.493253</td>\n",
              "      <td>-0.549749</td>\n",
              "      <td>-0.529831</td>\n",
              "      <td>-0.530935</td>\n",
              "      <td>-0.502365</td>\n",
              "      <td>-0.417368</td>\n",
              "      <td>-0.526346</td>\n",
              "      <td>-0.471005</td>\n",
              "      <td>-0.676784</td>\n",
              "      <td>-0.898612</td>\n",
              "      <td>-0.610571</td>\n",
              "      <td>-0.530164</td>\n",
              "      <td>-0.765674</td>\n",
              "      <td>-0.581937</td>\n",
              "      <td>-0.537848</td>\n",
              "      <td>...</td>\n",
              "      <td>1.640105</td>\n",
              "      <td>1.810988</td>\n",
              "      <td>2.185398</td>\n",
              "      <td>2.262985</td>\n",
              "      <td>2.052920</td>\n",
              "      <td>1.890488</td>\n",
              "      <td>1.793033</td>\n",
              "      <td>1.564784</td>\n",
              "      <td>1.234619</td>\n",
              "      <td>0.900302</td>\n",
              "      <td>0.551957</td>\n",
              "      <td>0.258222</td>\n",
              "      <td>-0.128587</td>\n",
              "      <td>-0.092585</td>\n",
              "      <td>-0.168606</td>\n",
              "      <td>-0.495989</td>\n",
              "      <td>-0.395034</td>\n",
              "      <td>-0.328238</td>\n",
              "      <td>-0.448138</td>\n",
              "      <td>-0.268230</td>\n",
              "      <td>-0.456415</td>\n",
              "      <td>-0.357867</td>\n",
              "      <td>-0.317508</td>\n",
              "      <td>-0.434112</td>\n",
              "      <td>-0.549203</td>\n",
              "      <td>-0.324615</td>\n",
              "      <td>-0.268082</td>\n",
              "      <td>-0.220384</td>\n",
              "      <td>-0.117429</td>\n",
              "      <td>0.614059</td>\n",
              "      <td>1.284825</td>\n",
              "      <td>0.886073</td>\n",
              "      <td>0.531452</td>\n",
              "      <td>0.311377</td>\n",
              "      <td>-0.021919</td>\n",
              "      <td>-0.713683</td>\n",
              "      <td>-0.532197</td>\n",
              "      <td>0.321097</td>\n",
              "      <td>0.904227</td>\n",
              "      <td>-0.421797</td>\n",
              "    </tr>\n",
              "    <tr>\n",
              "      <th>3</th>\n",
              "      <td>1.0</td>\n",
              "      <td>0.490473</td>\n",
              "      <td>-1.914407</td>\n",
              "      <td>-3.616364</td>\n",
              "      <td>-4.318823</td>\n",
              "      <td>-4.268016</td>\n",
              "      <td>-3.881110</td>\n",
              "      <td>-2.993280</td>\n",
              "      <td>-1.671131</td>\n",
              "      <td>-1.333884</td>\n",
              "      <td>-0.965629</td>\n",
              "      <td>-0.183319</td>\n",
              "      <td>-0.101657</td>\n",
              "      <td>-0.273874</td>\n",
              "      <td>-0.127818</td>\n",
              "      <td>-0.195983</td>\n",
              "      <td>-0.213523</td>\n",
              "      <td>-0.176473</td>\n",
              "      <td>-0.156932</td>\n",
              "      <td>-0.149172</td>\n",
              "      <td>-0.181510</td>\n",
              "      <td>-0.180074</td>\n",
              "      <td>-0.246151</td>\n",
              "      <td>-0.274260</td>\n",
              "      <td>-0.140960</td>\n",
              "      <td>-0.277449</td>\n",
              "      <td>-0.382549</td>\n",
              "      <td>-0.311937</td>\n",
              "      <td>-0.360093</td>\n",
              "      <td>-0.405968</td>\n",
              "      <td>-0.571433</td>\n",
              "      <td>-0.524106</td>\n",
              "      <td>-0.537886</td>\n",
              "      <td>-0.606778</td>\n",
              "      <td>-0.661446</td>\n",
              "      <td>-0.683375</td>\n",
              "      <td>-0.746683</td>\n",
              "      <td>-0.635662</td>\n",
              "      <td>-0.625231</td>\n",
              "      <td>-0.540094</td>\n",
              "      <td>...</td>\n",
              "      <td>1.553079</td>\n",
              "      <td>1.772155</td>\n",
              "      <td>2.000769</td>\n",
              "      <td>1.925003</td>\n",
              "      <td>1.898426</td>\n",
              "      <td>1.720953</td>\n",
              "      <td>1.501711</td>\n",
              "      <td>1.422492</td>\n",
              "      <td>1.023225</td>\n",
              "      <td>0.776341</td>\n",
              "      <td>0.504426</td>\n",
              "      <td>0.056382</td>\n",
              "      <td>-0.233161</td>\n",
              "      <td>-0.406388</td>\n",
              "      <td>-0.327528</td>\n",
              "      <td>-0.460868</td>\n",
              "      <td>-0.402536</td>\n",
              "      <td>-0.345752</td>\n",
              "      <td>-0.354206</td>\n",
              "      <td>-0.439959</td>\n",
              "      <td>-0.425326</td>\n",
              "      <td>-0.439789</td>\n",
              "      <td>-0.451835</td>\n",
              "      <td>-0.395926</td>\n",
              "      <td>-0.448762</td>\n",
              "      <td>-0.391789</td>\n",
              "      <td>-0.376307</td>\n",
              "      <td>-0.461069</td>\n",
              "      <td>-0.253524</td>\n",
              "      <td>0.213006</td>\n",
              "      <td>0.491173</td>\n",
              "      <td>0.350816</td>\n",
              "      <td>0.499111</td>\n",
              "      <td>0.600345</td>\n",
              "      <td>0.842069</td>\n",
              "      <td>0.952074</td>\n",
              "      <td>0.990133</td>\n",
              "      <td>1.086798</td>\n",
              "      <td>1.403011</td>\n",
              "      <td>-0.383564</td>\n",
              "    </tr>\n",
              "    <tr>\n",
              "      <th>4</th>\n",
              "      <td>1.0</td>\n",
              "      <td>0.800232</td>\n",
              "      <td>-0.874252</td>\n",
              "      <td>-2.384761</td>\n",
              "      <td>-3.973292</td>\n",
              "      <td>-4.338224</td>\n",
              "      <td>-3.802422</td>\n",
              "      <td>-2.534510</td>\n",
              "      <td>-1.783423</td>\n",
              "      <td>-1.594450</td>\n",
              "      <td>-0.753199</td>\n",
              "      <td>-0.298107</td>\n",
              "      <td>-0.428928</td>\n",
              "      <td>-0.491351</td>\n",
              "      <td>-0.361304</td>\n",
              "      <td>-0.339296</td>\n",
              "      <td>-0.324952</td>\n",
              "      <td>-0.290113</td>\n",
              "      <td>-0.363051</td>\n",
              "      <td>-0.525684</td>\n",
              "      <td>-0.597423</td>\n",
              "      <td>-0.575523</td>\n",
              "      <td>-0.567503</td>\n",
              "      <td>-0.504555</td>\n",
              "      <td>-0.618406</td>\n",
              "      <td>-0.682814</td>\n",
              "      <td>-0.743849</td>\n",
              "      <td>-0.815588</td>\n",
              "      <td>-0.826902</td>\n",
              "      <td>-0.782374</td>\n",
              "      <td>-0.929462</td>\n",
              "      <td>-0.999672</td>\n",
              "      <td>-1.060969</td>\n",
              "      <td>-1.007877</td>\n",
              "      <td>-1.028735</td>\n",
              "      <td>-1.122629</td>\n",
              "      <td>-1.028650</td>\n",
              "      <td>-1.046515</td>\n",
              "      <td>-1.063372</td>\n",
              "      <td>-1.122423</td>\n",
              "      <td>...</td>\n",
              "      <td>0.982230</td>\n",
              "      <td>1.155363</td>\n",
              "      <td>1.336254</td>\n",
              "      <td>1.627534</td>\n",
              "      <td>1.717594</td>\n",
              "      <td>1.696487</td>\n",
              "      <td>1.741686</td>\n",
              "      <td>1.674078</td>\n",
              "      <td>1.546928</td>\n",
              "      <td>1.331738</td>\n",
              "      <td>1.110168</td>\n",
              "      <td>0.922210</td>\n",
              "      <td>0.521777</td>\n",
              "      <td>0.154852</td>\n",
              "      <td>-0.123861</td>\n",
              "      <td>-0.202998</td>\n",
              "      <td>-0.247956</td>\n",
              "      <td>-0.219122</td>\n",
              "      <td>-0.214695</td>\n",
              "      <td>-0.319215</td>\n",
              "      <td>-0.198597</td>\n",
              "      <td>-0.151618</td>\n",
              "      <td>-0.129593</td>\n",
              "      <td>-0.074939</td>\n",
              "      <td>-0.196807</td>\n",
              "      <td>-0.174795</td>\n",
              "      <td>-0.208833</td>\n",
              "      <td>-0.210754</td>\n",
              "      <td>-0.100485</td>\n",
              "      <td>0.197446</td>\n",
              "      <td>0.966606</td>\n",
              "      <td>1.148884</td>\n",
              "      <td>0.958434</td>\n",
              "      <td>1.059025</td>\n",
              "      <td>1.371682</td>\n",
              "      <td>1.277392</td>\n",
              "      <td>0.960304</td>\n",
              "      <td>0.971020</td>\n",
              "      <td>1.614392</td>\n",
              "      <td>1.421456</td>\n",
              "    </tr>\n",
              "    <tr>\n",
              "      <th>...</th>\n",
              "      <td>...</td>\n",
              "      <td>...</td>\n",
              "      <td>...</td>\n",
              "      <td>...</td>\n",
              "      <td>...</td>\n",
              "      <td>...</td>\n",
              "      <td>...</td>\n",
              "      <td>...</td>\n",
              "      <td>...</td>\n",
              "      <td>...</td>\n",
              "      <td>...</td>\n",
              "      <td>...</td>\n",
              "      <td>...</td>\n",
              "      <td>...</td>\n",
              "      <td>...</td>\n",
              "      <td>...</td>\n",
              "      <td>...</td>\n",
              "      <td>...</td>\n",
              "      <td>...</td>\n",
              "      <td>...</td>\n",
              "      <td>...</td>\n",
              "      <td>...</td>\n",
              "      <td>...</td>\n",
              "      <td>...</td>\n",
              "      <td>...</td>\n",
              "      <td>...</td>\n",
              "      <td>...</td>\n",
              "      <td>...</td>\n",
              "      <td>...</td>\n",
              "      <td>...</td>\n",
              "      <td>...</td>\n",
              "      <td>...</td>\n",
              "      <td>...</td>\n",
              "      <td>...</td>\n",
              "      <td>...</td>\n",
              "      <td>...</td>\n",
              "      <td>...</td>\n",
              "      <td>...</td>\n",
              "      <td>...</td>\n",
              "      <td>...</td>\n",
              "      <td>...</td>\n",
              "      <td>...</td>\n",
              "      <td>...</td>\n",
              "      <td>...</td>\n",
              "      <td>...</td>\n",
              "      <td>...</td>\n",
              "      <td>...</td>\n",
              "      <td>...</td>\n",
              "      <td>...</td>\n",
              "      <td>...</td>\n",
              "      <td>...</td>\n",
              "      <td>...</td>\n",
              "      <td>...</td>\n",
              "      <td>...</td>\n",
              "      <td>...</td>\n",
              "      <td>...</td>\n",
              "      <td>...</td>\n",
              "      <td>...</td>\n",
              "      <td>...</td>\n",
              "      <td>...</td>\n",
              "      <td>...</td>\n",
              "      <td>...</td>\n",
              "      <td>...</td>\n",
              "      <td>...</td>\n",
              "      <td>...</td>\n",
              "      <td>...</td>\n",
              "      <td>...</td>\n",
              "      <td>...</td>\n",
              "      <td>...</td>\n",
              "      <td>...</td>\n",
              "      <td>...</td>\n",
              "      <td>...</td>\n",
              "      <td>...</td>\n",
              "      <td>...</td>\n",
              "      <td>...</td>\n",
              "      <td>...</td>\n",
              "      <td>...</td>\n",
              "      <td>...</td>\n",
              "      <td>...</td>\n",
              "      <td>...</td>\n",
              "      <td>...</td>\n",
              "    </tr>\n",
              "    <tr>\n",
              "      <th>4995</th>\n",
              "      <td>4.0</td>\n",
              "      <td>-1.122969</td>\n",
              "      <td>-2.252925</td>\n",
              "      <td>-2.867628</td>\n",
              "      <td>-3.358605</td>\n",
              "      <td>-3.167849</td>\n",
              "      <td>-2.638360</td>\n",
              "      <td>-1.664162</td>\n",
              "      <td>-0.935655</td>\n",
              "      <td>-0.866953</td>\n",
              "      <td>-0.645363</td>\n",
              "      <td>-0.093342</td>\n",
              "      <td>0.099746</td>\n",
              "      <td>0.121585</td>\n",
              "      <td>0.125760</td>\n",
              "      <td>0.071543</td>\n",
              "      <td>0.050503</td>\n",
              "      <td>0.021200</td>\n",
              "      <td>0.026780</td>\n",
              "      <td>0.158262</td>\n",
              "      <td>0.099955</td>\n",
              "      <td>-0.009558</td>\n",
              "      <td>0.078789</td>\n",
              "      <td>0.086691</td>\n",
              "      <td>0.046382</td>\n",
              "      <td>0.068272</td>\n",
              "      <td>0.102911</td>\n",
              "      <td>0.106083</td>\n",
              "      <td>0.057099</td>\n",
              "      <td>0.028555</td>\n",
              "      <td>0.046705</td>\n",
              "      <td>0.046524</td>\n",
              "      <td>0.095233</td>\n",
              "      <td>0.059824</td>\n",
              "      <td>-0.021798</td>\n",
              "      <td>-0.022737</td>\n",
              "      <td>-0.083263</td>\n",
              "      <td>-0.125486</td>\n",
              "      <td>-0.082084</td>\n",
              "      <td>-0.023000</td>\n",
              "      <td>...</td>\n",
              "      <td>0.643776</td>\n",
              "      <td>0.597168</td>\n",
              "      <td>0.625141</td>\n",
              "      <td>0.648181</td>\n",
              "      <td>0.594234</td>\n",
              "      <td>0.630589</td>\n",
              "      <td>0.654510</td>\n",
              "      <td>0.602251</td>\n",
              "      <td>0.656946</td>\n",
              "      <td>0.603251</td>\n",
              "      <td>0.599274</td>\n",
              "      <td>0.561487</td>\n",
              "      <td>0.547185</td>\n",
              "      <td>0.537524</td>\n",
              "      <td>0.603885</td>\n",
              "      <td>0.541677</td>\n",
              "      <td>0.580715</td>\n",
              "      <td>0.689346</td>\n",
              "      <td>0.746181</td>\n",
              "      <td>0.867390</td>\n",
              "      <td>0.783529</td>\n",
              "      <td>0.698720</td>\n",
              "      <td>0.798727</td>\n",
              "      <td>0.875711</td>\n",
              "      <td>0.985118</td>\n",
              "      <td>0.799260</td>\n",
              "      <td>0.577579</td>\n",
              "      <td>0.394182</td>\n",
              "      <td>0.458721</td>\n",
              "      <td>0.411458</td>\n",
              "      <td>0.205543</td>\n",
              "      <td>-0.472419</td>\n",
              "      <td>-1.310147</td>\n",
              "      <td>-2.029521</td>\n",
              "      <td>-3.221294</td>\n",
              "      <td>-4.176790</td>\n",
              "      <td>-4.009720</td>\n",
              "      <td>-2.874136</td>\n",
              "      <td>-2.008369</td>\n",
              "      <td>-1.808334</td>\n",
              "    </tr>\n",
              "    <tr>\n",
              "      <th>4996</th>\n",
              "      <td>2.0</td>\n",
              "      <td>-0.547705</td>\n",
              "      <td>-1.889545</td>\n",
              "      <td>-2.839779</td>\n",
              "      <td>-3.457912</td>\n",
              "      <td>-3.929149</td>\n",
              "      <td>-3.966026</td>\n",
              "      <td>-3.492560</td>\n",
              "      <td>-2.695269</td>\n",
              "      <td>-1.849691</td>\n",
              "      <td>-1.374321</td>\n",
              "      <td>-1.288459</td>\n",
              "      <td>-1.117578</td>\n",
              "      <td>-0.536271</td>\n",
              "      <td>-0.251050</td>\n",
              "      <td>-0.215496</td>\n",
              "      <td>-0.072500</td>\n",
              "      <td>-0.170556</td>\n",
              "      <td>-0.182279</td>\n",
              "      <td>-0.271306</td>\n",
              "      <td>-0.242693</td>\n",
              "      <td>-0.225397</td>\n",
              "      <td>-0.187956</td>\n",
              "      <td>-0.215918</td>\n",
              "      <td>-0.173543</td>\n",
              "      <td>-0.233401</td>\n",
              "      <td>-0.190231</td>\n",
              "      <td>-0.160668</td>\n",
              "      <td>-0.241456</td>\n",
              "      <td>-0.204146</td>\n",
              "      <td>-0.228155</td>\n",
              "      <td>-0.084758</td>\n",
              "      <td>-0.142782</td>\n",
              "      <td>-0.153214</td>\n",
              "      <td>-0.314872</td>\n",
              "      <td>-0.335928</td>\n",
              "      <td>-0.266875</td>\n",
              "      <td>-0.313519</td>\n",
              "      <td>-0.304439</td>\n",
              "      <td>-0.294795</td>\n",
              "      <td>...</td>\n",
              "      <td>0.427870</td>\n",
              "      <td>0.471064</td>\n",
              "      <td>0.532288</td>\n",
              "      <td>0.541352</td>\n",
              "      <td>0.588983</td>\n",
              "      <td>0.753851</td>\n",
              "      <td>0.650792</td>\n",
              "      <td>0.720441</td>\n",
              "      <td>0.752308</td>\n",
              "      <td>0.813847</td>\n",
              "      <td>0.690120</td>\n",
              "      <td>0.685244</td>\n",
              "      <td>0.632990</td>\n",
              "      <td>0.688632</td>\n",
              "      <td>0.676820</td>\n",
              "      <td>0.639733</td>\n",
              "      <td>0.708132</td>\n",
              "      <td>0.675063</td>\n",
              "      <td>0.646640</td>\n",
              "      <td>0.635341</td>\n",
              "      <td>0.670459</td>\n",
              "      <td>0.732434</td>\n",
              "      <td>0.866642</td>\n",
              "      <td>0.845284</td>\n",
              "      <td>1.045767</td>\n",
              "      <td>1.429693</td>\n",
              "      <td>1.783791</td>\n",
              "      <td>1.697750</td>\n",
              "      <td>1.492639</td>\n",
              "      <td>1.378843</td>\n",
              "      <td>1.218185</td>\n",
              "      <td>1.258419</td>\n",
              "      <td>1.907529</td>\n",
              "      <td>2.280888</td>\n",
              "      <td>1.895242</td>\n",
              "      <td>1.437702</td>\n",
              "      <td>1.193433</td>\n",
              "      <td>1.261335</td>\n",
              "      <td>1.150449</td>\n",
              "      <td>0.804932</td>\n",
              "    </tr>\n",
              "    <tr>\n",
              "      <th>4997</th>\n",
              "      <td>2.0</td>\n",
              "      <td>-1.351779</td>\n",
              "      <td>-2.209006</td>\n",
              "      <td>-2.520225</td>\n",
              "      <td>-3.061475</td>\n",
              "      <td>-3.065141</td>\n",
              "      <td>-3.030739</td>\n",
              "      <td>-2.622720</td>\n",
              "      <td>-2.044092</td>\n",
              "      <td>-1.295874</td>\n",
              "      <td>-0.733839</td>\n",
              "      <td>-0.562769</td>\n",
              "      <td>-0.461068</td>\n",
              "      <td>-0.310064</td>\n",
              "      <td>-0.004490</td>\n",
              "      <td>0.184161</td>\n",
              "      <td>0.252896</td>\n",
              "      <td>0.302077</td>\n",
              "      <td>0.237223</td>\n",
              "      <td>0.304171</td>\n",
              "      <td>0.276120</td>\n",
              "      <td>0.330877</td>\n",
              "      <td>0.356674</td>\n",
              "      <td>0.323301</td>\n",
              "      <td>0.413409</td>\n",
              "      <td>0.366606</td>\n",
              "      <td>0.328516</td>\n",
              "      <td>0.358460</td>\n",
              "      <td>0.353359</td>\n",
              "      <td>0.451590</td>\n",
              "      <td>0.419947</td>\n",
              "      <td>0.330580</td>\n",
              "      <td>0.317684</td>\n",
              "      <td>0.270813</td>\n",
              "      <td>0.258002</td>\n",
              "      <td>0.317464</td>\n",
              "      <td>0.358579</td>\n",
              "      <td>0.295808</td>\n",
              "      <td>0.276734</td>\n",
              "      <td>0.230999</td>\n",
              "      <td>...</td>\n",
              "      <td>0.716374</td>\n",
              "      <td>0.802243</td>\n",
              "      <td>0.803918</td>\n",
              "      <td>0.826138</td>\n",
              "      <td>0.774642</td>\n",
              "      <td>0.637822</td>\n",
              "      <td>0.747995</td>\n",
              "      <td>0.762681</td>\n",
              "      <td>0.807652</td>\n",
              "      <td>0.816406</td>\n",
              "      <td>0.818481</td>\n",
              "      <td>0.900709</td>\n",
              "      <td>0.876553</td>\n",
              "      <td>0.861227</td>\n",
              "      <td>0.764280</td>\n",
              "      <td>0.628381</td>\n",
              "      <td>0.485624</td>\n",
              "      <td>0.462129</td>\n",
              "      <td>0.442520</td>\n",
              "      <td>0.402201</td>\n",
              "      <td>0.380095</td>\n",
              "      <td>0.289096</td>\n",
              "      <td>0.214385</td>\n",
              "      <td>0.106227</td>\n",
              "      <td>-0.009595</td>\n",
              "      <td>-0.025391</td>\n",
              "      <td>0.035677</td>\n",
              "      <td>-0.030661</td>\n",
              "      <td>-0.203568</td>\n",
              "      <td>-0.445023</td>\n",
              "      <td>-0.896575</td>\n",
              "      <td>-1.512234</td>\n",
              "      <td>-2.076075</td>\n",
              "      <td>-2.586042</td>\n",
              "      <td>-3.322799</td>\n",
              "      <td>-3.627311</td>\n",
              "      <td>-3.437038</td>\n",
              "      <td>-2.260023</td>\n",
              "      <td>-1.577823</td>\n",
              "      <td>-0.684531</td>\n",
              "    </tr>\n",
              "    <tr>\n",
              "      <th>4998</th>\n",
              "      <td>2.0</td>\n",
              "      <td>-1.124432</td>\n",
              "      <td>-1.905039</td>\n",
              "      <td>-2.192707</td>\n",
              "      <td>-2.904320</td>\n",
              "      <td>-2.900722</td>\n",
              "      <td>-2.761252</td>\n",
              "      <td>-2.569705</td>\n",
              "      <td>-2.043893</td>\n",
              "      <td>-1.490538</td>\n",
              "      <td>-0.938473</td>\n",
              "      <td>-0.485372</td>\n",
              "      <td>-0.374298</td>\n",
              "      <td>-0.389414</td>\n",
              "      <td>-0.146131</td>\n",
              "      <td>0.212746</td>\n",
              "      <td>0.429797</td>\n",
              "      <td>0.499480</td>\n",
              "      <td>0.536705</td>\n",
              "      <td>0.558162</td>\n",
              "      <td>0.543721</td>\n",
              "      <td>0.550670</td>\n",
              "      <td>0.560516</td>\n",
              "      <td>0.537170</td>\n",
              "      <td>0.537986</td>\n",
              "      <td>0.549989</td>\n",
              "      <td>0.519434</td>\n",
              "      <td>0.508304</td>\n",
              "      <td>0.540967</td>\n",
              "      <td>0.570611</td>\n",
              "      <td>0.587472</td>\n",
              "      <td>0.556779</td>\n",
              "      <td>0.519021</td>\n",
              "      <td>0.507215</td>\n",
              "      <td>0.464078</td>\n",
              "      <td>0.450806</td>\n",
              "      <td>0.475988</td>\n",
              "      <td>0.485856</td>\n",
              "      <td>0.466050</td>\n",
              "      <td>0.392451</td>\n",
              "      <td>...</td>\n",
              "      <td>0.762903</td>\n",
              "      <td>0.757111</td>\n",
              "      <td>0.704867</td>\n",
              "      <td>0.726405</td>\n",
              "      <td>0.720765</td>\n",
              "      <td>0.769695</td>\n",
              "      <td>0.809712</td>\n",
              "      <td>0.703485</td>\n",
              "      <td>0.610350</td>\n",
              "      <td>0.683131</td>\n",
              "      <td>0.746369</td>\n",
              "      <td>0.605945</td>\n",
              "      <td>0.437233</td>\n",
              "      <td>0.395451</td>\n",
              "      <td>0.396267</td>\n",
              "      <td>0.396361</td>\n",
              "      <td>0.354488</td>\n",
              "      <td>0.279633</td>\n",
              "      <td>0.227358</td>\n",
              "      <td>0.123992</td>\n",
              "      <td>-0.031222</td>\n",
              "      <td>-0.155341</td>\n",
              "      <td>-0.219141</td>\n",
              "      <td>-0.239644</td>\n",
              "      <td>-0.333443</td>\n",
              "      <td>-0.557080</td>\n",
              "      <td>-0.811259</td>\n",
              "      <td>-1.072168</td>\n",
              "      <td>-1.497530</td>\n",
              "      <td>-2.047796</td>\n",
              "      <td>-2.495989</td>\n",
              "      <td>-2.821782</td>\n",
              "      <td>-3.268355</td>\n",
              "      <td>-3.634981</td>\n",
              "      <td>-3.168765</td>\n",
              "      <td>-2.245878</td>\n",
              "      <td>-1.262259</td>\n",
              "      <td>-0.443307</td>\n",
              "      <td>-0.559769</td>\n",
              "      <td>0.108568</td>\n",
              "    </tr>\n",
              "    <tr>\n",
              "      <th>4999</th>\n",
              "      <td>2.0</td>\n",
              "      <td>0.728813</td>\n",
              "      <td>0.192597</td>\n",
              "      <td>-0.733884</td>\n",
              "      <td>-1.779456</td>\n",
              "      <td>-2.345908</td>\n",
              "      <td>-2.977565</td>\n",
              "      <td>-3.380053</td>\n",
              "      <td>-3.417164</td>\n",
              "      <td>-3.030925</td>\n",
              "      <td>-2.313867</td>\n",
              "      <td>-1.671269</td>\n",
              "      <td>-1.255303</td>\n",
              "      <td>-1.146982</td>\n",
              "      <td>-1.049088</td>\n",
              "      <td>-0.513524</td>\n",
              "      <td>-0.100892</td>\n",
              "      <td>-0.087888</td>\n",
              "      <td>-0.179308</td>\n",
              "      <td>-0.226885</td>\n",
              "      <td>-0.156335</td>\n",
              "      <td>-0.141478</td>\n",
              "      <td>-0.024932</td>\n",
              "      <td>-0.089615</td>\n",
              "      <td>-0.165480</td>\n",
              "      <td>-0.043243</td>\n",
              "      <td>-0.132201</td>\n",
              "      <td>-0.193009</td>\n",
              "      <td>-0.177407</td>\n",
              "      <td>-0.276008</td>\n",
              "      <td>-0.202072</td>\n",
              "      <td>-0.110621</td>\n",
              "      <td>-0.176676</td>\n",
              "      <td>-0.177095</td>\n",
              "      <td>-0.277154</td>\n",
              "      <td>-0.054093</td>\n",
              "      <td>-0.188261</td>\n",
              "      <td>-0.283490</td>\n",
              "      <td>-0.250398</td>\n",
              "      <td>-0.280567</td>\n",
              "      <td>...</td>\n",
              "      <td>0.343283</td>\n",
              "      <td>0.351328</td>\n",
              "      <td>0.350081</td>\n",
              "      <td>0.487850</td>\n",
              "      <td>0.514130</td>\n",
              "      <td>0.655713</td>\n",
              "      <td>0.659875</td>\n",
              "      <td>0.574770</td>\n",
              "      <td>0.675136</td>\n",
              "      <td>0.624451</td>\n",
              "      <td>0.697013</td>\n",
              "      <td>0.749857</td>\n",
              "      <td>0.829295</td>\n",
              "      <td>0.871171</td>\n",
              "      <td>0.863445</td>\n",
              "      <td>0.916639</td>\n",
              "      <td>0.841814</td>\n",
              "      <td>0.961598</td>\n",
              "      <td>0.877710</td>\n",
              "      <td>0.831334</td>\n",
              "      <td>0.774570</td>\n",
              "      <td>0.894903</td>\n",
              "      <td>1.087536</td>\n",
              "      <td>1.021885</td>\n",
              "      <td>1.208764</td>\n",
              "      <td>1.623936</td>\n",
              "      <td>1.851147</td>\n",
              "      <td>1.818792</td>\n",
              "      <td>1.672569</td>\n",
              "      <td>1.389086</td>\n",
              "      <td>1.219499</td>\n",
              "      <td>1.267275</td>\n",
              "      <td>1.678989</td>\n",
              "      <td>2.483389</td>\n",
              "      <td>2.569073</td>\n",
              "      <td>2.122891</td>\n",
              "      <td>1.753963</td>\n",
              "      <td>1.538975</td>\n",
              "      <td>1.713781</td>\n",
              "      <td>1.309382</td>\n",
              "    </tr>\n",
              "  </tbody>\n",
              "</table>\n",
              "<p>5000 rows × 141 columns</p>\n",
              "</div>"
            ],
            "text/plain": [
              "      0         1         2         3    ...       137       138       139       140\n",
              "0     1.0 -0.112522 -2.827204 -3.773897  ...  0.228077  0.123431  0.925286  0.193137\n",
              "1     1.0 -1.100878 -3.996840 -4.285843  ...  0.476333  0.773820  1.119621 -1.436250\n",
              "2     1.0 -0.567088 -2.593450 -3.874230  ... -0.532197  0.321097  0.904227 -0.421797\n",
              "3     1.0  0.490473 -1.914407 -3.616364  ...  0.990133  1.086798  1.403011 -0.383564\n",
              "4     1.0  0.800232 -0.874252 -2.384761  ...  0.960304  0.971020  1.614392  1.421456\n",
              "...   ...       ...       ...       ...  ...       ...       ...       ...       ...\n",
              "4995  4.0 -1.122969 -2.252925 -2.867628  ... -4.009720 -2.874136 -2.008369 -1.808334\n",
              "4996  2.0 -0.547705 -1.889545 -2.839779  ...  1.193433  1.261335  1.150449  0.804932\n",
              "4997  2.0 -1.351779 -2.209006 -2.520225  ... -3.437038 -2.260023 -1.577823 -0.684531\n",
              "4998  2.0 -1.124432 -1.905039 -2.192707  ... -1.262259 -0.443307 -0.559769  0.108568\n",
              "4999  2.0  0.728813  0.192597 -0.733884  ...  1.753963  1.538975  1.713781  1.309382\n",
              "\n",
              "[5000 rows x 141 columns]"
            ]
          },
          "metadata": {
            "tags": []
          },
          "execution_count": 20
        }
      ]
    },
    {
      "cell_type": "code",
      "metadata": {
        "id": "vjYldoa39CZR"
      },
      "source": [
        "df = df.add_prefix('c')"
      ],
      "execution_count": 21,
      "outputs": []
    },
    {
      "cell_type": "code",
      "metadata": {
        "id": "_y9zz9x1nb3q"
      },
      "source": [
        "train_data, test_data, train_labels, test_labels = train_test_split(df.values, df.values[:,0:1], test_size=0.2, random_state=111)"
      ],
      "execution_count": 22,
      "outputs": []
    },
    {
      "cell_type": "code",
      "metadata": {
        "id": "49Gm0jSGnhA8"
      },
      "source": [
        "scaler = MinMaxScaler()\n",
        "data_scaled = scaler.fit(train_data)"
      ],
      "execution_count": 23,
      "outputs": []
    },
    {
      "cell_type": "code",
      "metadata": {
        "id": "HuOqOsiDnkiU"
      },
      "source": [
        "train_data_scaled = data_scaled.transform(train_data)\n",
        "test_data_scaled = data_scaled.transform(test_data)"
      ],
      "execution_count": 24,
      "outputs": []
    },
    {
      "cell_type": "code",
      "metadata": {
        "id": "Rv8emqasnzgq"
      },
      "source": [
        "normal_train_data= pd.DataFrame(train_data_scaled).add_prefix('c').query('c0 == 0').values[:,1:]\n",
        "anomaly_train_data = pd.DataFrame(train_data_scaled).add_prefix('c').query('c0 > 0').values[:,1:]"
      ],
      "execution_count": 25,
      "outputs": []
    },
    {
      "cell_type": "code",
      "metadata": {
        "id": "KXysbtPRn0lv"
      },
      "source": [
        "normal_test_data= pd.DataFrame(test_data_scaled).add_prefix('c').query('c0 == 0').values[:,1:]\n",
        "anomaly_test_data = pd.DataFrame(test_data_scaled).add_prefix('c').query('c0 > 0').values[:,1:]"
      ],
      "execution_count": 26,
      "outputs": []
    },
    {
      "cell_type": "code",
      "metadata": {
        "id": "kVc1ufTbpCxh"
      },
      "source": [
        "normal_train_dataNoise = np.random.normal(loc=0.5, scale=0.5, size=normal_train_data.shape)\n",
        "normal_test_dataNoise = np.random.normal(loc=0.5, scale=0.5, size=normal_test_data.shape)\n",
        "normal_trainX_dataNoise = np.clip(normal_train_data + normal_train_dataNoise, 0, 1)\n",
        "normal_testX_dataNoise = np.clip(normal_test_data + normal_test_dataNoise, 0, 1)"
      ],
      "execution_count": 27,
      "outputs": []
    },
    {
      "cell_type": "code",
      "metadata": {
        "id": "JaCoN3ioqgu3"
      },
      "source": [
        "anomaly_train_dataNoise = np.random.normal(loc=0.5, scale=0.5, size=anomaly_train_data.shape)\n",
        "anomaly_test_dataNoise = np.random.normal(loc=0.5, scale=0.5, size=anomaly_test_data.shape)\n",
        "anomaly_trainX_dataNoise =np.clip(anomaly_train_dataNoise + anomaly_train_data, 0, 1)\n",
        "anomaly_testX_dataNoise = np.clip(anomaly_test_dataNoise + anomaly_test_data, 0, 1)"
      ],
      "execution_count": 30,
      "outputs": []
    },
    {
      "cell_type": "code",
      "metadata": {
        "id": "aqfq0CrV_Fwo"
      },
      "source": [
        "train_data_scaled_Noise = np.random.normal(loc=0.5, scale=0.5, size=train_data_scaled.shape)\n",
        "test_data_scaled_Noise = np.random.normal(loc=0.5, scale=0.5, size=test_data_scaled.shape)\n",
        "trainX_data_scaled_Noise = np.clip(train_data_scaled_Noise + train_data_scaled, 0, 1)\n",
        "testX_data_scaled_Noise = np.clip(test_data_scaled_Noise + test_data_scaled, 0, 1)"
      ],
      "execution_count": 36,
      "outputs": []
    },
    {
      "cell_type": "code",
      "metadata": {
        "id": "FPN4OtuJn341"
      },
      "source": [
        "class AutoEncoder(Model):\n",
        "  def __init__(self):\n",
        "    super(AutoEncoder, self).__init__()\n",
        "    self.encoder = tf.keras.Sequential([\n",
        "      tf.keras.layers.Dense(64, activation=\"relu\"),\n",
        "      tf.keras.layers.Dense(32, activation=\"relu\"),\n",
        "      tf.keras.layers.Dense(16, activation=\"relu\"),\n",
        "      tf.keras.layers.Dense(8, activation=\"relu\")])\n",
        "    \n",
        "    self.decoder = tf.keras.Sequential([\n",
        "      tf.keras.layers.Dense(16, activation=\"relu\"),\n",
        "      tf.keras.layers.Dense(32, activation=\"relu\"),\n",
        "      tf.keras.layers.Dense(64, activation=\"relu\"),\n",
        "      tf.keras.layers.Dense(140, activation=\"sigmoid\")])\n",
        "    \n",
        "  def call(self, x):\n",
        "    encoded = self.encoder(x)\n",
        "    decoded = self.decoder(encoded)\n",
        "    return decoded"
      ],
      "execution_count": 37,
      "outputs": []
    },
    {
      "cell_type": "code",
      "metadata": {
        "id": "-LL9LqdGqsiQ"
      },
      "source": [
        "model= AutoEncoder()\n",
        "early_stopping = tf.keras.callbacks.EarlyStopping(monitor='val_loss',\n",
        "                                                    patience=10,\n",
        "                                                    mode='min')\n",
        "\n",
        "model.compile(optimizer='adam', loss='mae')"
      ],
      "execution_count": 40,
      "outputs": []
    },
    {
      "cell_type": "code",
      "metadata": {
        "colab": {
          "base_uri": "https://localhost:8080/"
        },
        "id": "sYogOvz_q5ts",
        "outputId": "73c35098-b649-4ee1-f159-31505dc82e49"
      },
      "source": [
        "history = model.fit(normal_trainX_dataNoise, normal_train_data, \n",
        "          epochs=50, \n",
        "          batch_size=128,\n",
        "          validation_data=(trainX_data_scaled_Noise[:,1:], train_data_scaled[:,1:]),\n",
        "          shuffle=True,\n",
        "          callbacks=[early_stopping])"
      ],
      "execution_count": 41,
      "outputs": [
        {
          "output_type": "stream",
          "text": [
            "Epoch 1/50\n",
            "19/19 [==============================] - 1s 12ms/step - loss: 0.1348 - val_loss: 0.1125\n",
            "Epoch 2/50\n",
            "19/19 [==============================] - 0s 7ms/step - loss: 0.0928 - val_loss: 0.0821\n",
            "Epoch 3/50\n",
            "19/19 [==============================] - 0s 6ms/step - loss: 0.0566 - val_loss: 0.0779\n",
            "Epoch 4/50\n",
            "19/19 [==============================] - 0s 7ms/step - loss: 0.0488 - val_loss: 0.0771\n",
            "Epoch 5/50\n",
            "19/19 [==============================] - 0s 6ms/step - loss: 0.0481 - val_loss: 0.0772\n",
            "Epoch 6/50\n",
            "19/19 [==============================] - 0s 6ms/step - loss: 0.0481 - val_loss: 0.0765\n",
            "Epoch 7/50\n",
            "19/19 [==============================] - 0s 6ms/step - loss: 0.0484 - val_loss: 0.0770\n",
            "Epoch 8/50\n",
            "19/19 [==============================] - 0s 6ms/step - loss: 0.0489 - val_loss: 0.0763\n",
            "Epoch 9/50\n",
            "19/19 [==============================] - 0s 6ms/step - loss: 0.0473 - val_loss: 0.0765\n",
            "Epoch 10/50\n",
            "19/19 [==============================] - 0s 6ms/step - loss: 0.0489 - val_loss: 0.0766\n",
            "Epoch 11/50\n",
            "19/19 [==============================] - 0s 6ms/step - loss: 0.0482 - val_loss: 0.0763\n",
            "Epoch 12/50\n",
            "19/19 [==============================] - 0s 6ms/step - loss: 0.0480 - val_loss: 0.0770\n",
            "Epoch 13/50\n",
            "19/19 [==============================] - 0s 6ms/step - loss: 0.0485 - val_loss: 0.0765\n",
            "Epoch 14/50\n",
            "19/19 [==============================] - 0s 6ms/step - loss: 0.0473 - val_loss: 0.0761\n",
            "Epoch 15/50\n",
            "19/19 [==============================] - 0s 6ms/step - loss: 0.0477 - val_loss: 0.0768\n",
            "Epoch 16/50\n",
            "19/19 [==============================] - 0s 6ms/step - loss: 0.0477 - val_loss: 0.0765\n",
            "Epoch 17/50\n",
            "19/19 [==============================] - 0s 6ms/step - loss: 0.0487 - val_loss: 0.0761\n",
            "Epoch 18/50\n",
            "19/19 [==============================] - 0s 6ms/step - loss: 0.0486 - val_loss: 0.0770\n",
            "Epoch 19/50\n",
            "19/19 [==============================] - 0s 6ms/step - loss: 0.0480 - val_loss: 0.0764\n",
            "Epoch 20/50\n",
            "19/19 [==============================] - 0s 6ms/step - loss: 0.0490 - val_loss: 0.0763\n",
            "Epoch 21/50\n",
            "19/19 [==============================] - 0s 6ms/step - loss: 0.0483 - val_loss: 0.0761\n",
            "Epoch 22/50\n",
            "19/19 [==============================] - 0s 6ms/step - loss: 0.0475 - val_loss: 0.0761\n",
            "Epoch 23/50\n",
            "19/19 [==============================] - 0s 6ms/step - loss: 0.0481 - val_loss: 0.0764\n",
            "Epoch 24/50\n",
            "19/19 [==============================] - 0s 6ms/step - loss: 0.0484 - val_loss: 0.0766\n",
            "Epoch 25/50\n",
            "19/19 [==============================] - 0s 6ms/step - loss: 0.0481 - val_loss: 0.0761\n",
            "Epoch 26/50\n",
            "19/19 [==============================] - 0s 6ms/step - loss: 0.0478 - val_loss: 0.0761\n",
            "Epoch 27/50\n",
            "19/19 [==============================] - 0s 6ms/step - loss: 0.0472 - val_loss: 0.0760\n",
            "Epoch 28/50\n",
            "19/19 [==============================] - 0s 6ms/step - loss: 0.0485 - val_loss: 0.0763\n",
            "Epoch 29/50\n",
            "19/19 [==============================] - 0s 6ms/step - loss: 0.0484 - val_loss: 0.0763\n",
            "Epoch 30/50\n",
            "19/19 [==============================] - 0s 6ms/step - loss: 0.0490 - val_loss: 0.0761\n",
            "Epoch 31/50\n",
            "19/19 [==============================] - 0s 6ms/step - loss: 0.0483 - val_loss: 0.0765\n",
            "Epoch 32/50\n",
            "19/19 [==============================] - 0s 6ms/step - loss: 0.0493 - val_loss: 0.0768\n",
            "Epoch 33/50\n",
            "19/19 [==============================] - 0s 6ms/step - loss: 0.0472 - val_loss: 0.0759\n",
            "Epoch 34/50\n",
            "19/19 [==============================] - 0s 6ms/step - loss: 0.0489 - val_loss: 0.0766\n",
            "Epoch 35/50\n",
            "19/19 [==============================] - 0s 6ms/step - loss: 0.0487 - val_loss: 0.0759\n",
            "Epoch 36/50\n",
            "19/19 [==============================] - 0s 7ms/step - loss: 0.0474 - val_loss: 0.0760\n",
            "Epoch 37/50\n",
            "19/19 [==============================] - 0s 7ms/step - loss: 0.0476 - val_loss: 0.0760\n",
            "Epoch 38/50\n",
            "19/19 [==============================] - 0s 6ms/step - loss: 0.0484 - val_loss: 0.0759\n",
            "Epoch 39/50\n",
            "19/19 [==============================] - 0s 6ms/step - loss: 0.0487 - val_loss: 0.0767\n",
            "Epoch 40/50\n",
            "19/19 [==============================] - 0s 6ms/step - loss: 0.0479 - val_loss: 0.0760\n",
            "Epoch 41/50\n",
            "19/19 [==============================] - 0s 6ms/step - loss: 0.0483 - val_loss: 0.0762\n",
            "Epoch 42/50\n",
            "19/19 [==============================] - 0s 6ms/step - loss: 0.0476 - val_loss: 0.0759\n",
            "Epoch 43/50\n",
            "19/19 [==============================] - 0s 6ms/step - loss: 0.0482 - val_loss: 0.0761\n",
            "Epoch 44/50\n",
            "19/19 [==============================] - 0s 6ms/step - loss: 0.0485 - val_loss: 0.0758\n",
            "Epoch 45/50\n",
            "19/19 [==============================] - 0s 6ms/step - loss: 0.0480 - val_loss: 0.0763\n",
            "Epoch 46/50\n",
            "19/19 [==============================] - 0s 7ms/step - loss: 0.0482 - val_loss: 0.0762\n",
            "Epoch 47/50\n",
            "19/19 [==============================] - 0s 6ms/step - loss: 0.0470 - val_loss: 0.0759\n",
            "Epoch 48/50\n",
            "19/19 [==============================] - 0s 6ms/step - loss: 0.0475 - val_loss: 0.0762\n",
            "Epoch 49/50\n",
            "19/19 [==============================] - 0s 6ms/step - loss: 0.0476 - val_loss: 0.0764\n",
            "Epoch 50/50\n",
            "19/19 [==============================] - 0s 6ms/step - loss: 0.0475 - val_loss: 0.0762\n"
          ],
          "name": "stdout"
        }
      ]
    },
    {
      "cell_type": "code",
      "metadata": {
        "id": "QbPb2SKCBMCG"
      },
      "source": [
        "encoder_out = model.encoder(normal_testX_dataNoise).numpy()\n",
        "decoder_out = model.decoder(encoder_out).numpy()"
      ],
      "execution_count": 42,
      "outputs": []
    },
    {
      "cell_type": "code",
      "metadata": {
        "colab": {
          "base_uri": "https://localhost:8080/",
          "height": 500
        },
        "id": "au1rbIUaBVT1",
        "outputId": "34ccf182-59c4-41e4-f37e-b936dc9c1698"
      },
      "source": [
        "\n",
        "plt.plot(normal_test_data[0],'b')\n",
        "plt.plot(decoder_out[0],'r')"
      ],
      "execution_count": 46,
      "outputs": [
        {
          "output_type": "execute_result",
          "data": {
            "text/plain": [
              "[<matplotlib.lines.Line2D at 0x7f2a30066750>]"
            ]
          },
          "metadata": {
            "tags": []
          },
          "execution_count": 46
        },
        {
          "output_type": "display_data",
          "data": {
            "image/png": "[encoded data removed]",
            "text/plain": [
              "<Figure size 720x576 with 1 Axes>"
            ]
          },
          "metadata": {
            "tags": [],
            "needs_background": "light"
          }
        }
      ]
    },
    {
      "cell_type": "code",
      "metadata": {
        "id": "lwOY2OOrBjEf"
      },
      "source": [
        "encoder_out_a = model.encoder(anomaly_testX_dataNoise).numpy()\n",
        "decoder_out_a = model.decoder(encoder_out_a).numpy()"
      ],
      "execution_count": 47,
      "outputs": []
    },
    {
      "cell_type": "code",
      "metadata": {
        "colab": {
          "base_uri": "https://localhost:8080/",
          "height": 500
        },
        "id": "E1fhd9d9Bu8y",
        "outputId": "5291e107-5d33-44c2-d62d-5e55c80484e7"
      },
      "source": [
        "plt.plot(anomaly_test_data[0],'b')\n",
        "plt.plot(decoder_out_a[0],'r')"
      ],
      "execution_count": 48,
      "outputs": [
        {
          "output_type": "execute_result",
          "data": {
            "text/plain": [
              "[<matplotlib.lines.Line2D at 0x7f2a30099ed0>]"
            ]
          },
          "metadata": {
            "tags": []
          },
          "execution_count": 48
        },
        {
          "output_type": "display_data",
          "data": {
            "image/png": "[encoded data removed]",
            "text/plain": [
              "<Figure size 720x576 with 1 Axes>"
            ]
          },
          "metadata": {
            "tags": [],
            "needs_background": "light"
          }
        }
      ]
    },
    {
      "cell_type": "code",
      "metadata": {
        "colab": {
          "base_uri": "https://localhost:8080/",
          "height": 754
        },
        "id": "T8XR_dXuCMv-",
        "outputId": "f98d9464-93ff-4ddc-8ce7-69b6032a5983"
      },
      "source": [
        "\n",
        "reconstructions = model.predict(normal_testX_dataNoise)\n",
        "train_loss = tf.keras.losses.mae(reconstructions, normal_test_data)\n",
        "\n",
        "plt.hist(train_loss, bins=50)"
      ],
      "execution_count": 49,
      "outputs": [
        {
          "output_type": "execute_result",
          "data": {
            "text/plain": [
              "(array([ 4., 17., 58., 56., 66., 67., 41., 33., 29., 31., 31., 25., 13.,\n",
              "        17.,  6.,  4., 12.,  6.,  2.,  3.,  3.,  4.,  5.,  2.,  0.,  2.,\n",
              "         0.,  0.,  3.,  4.,  0.,  1.,  1.,  3.,  1.,  2.,  0.,  1.,  1.,\n",
              "         2.,  1.,  1.,  0.,  1.,  1.,  0.,  0.,  0.,  1.,  2.]),\n",
              " array([0.01226131, 0.01608775, 0.01991418, 0.02374061, 0.02756704,\n",
              "        0.03139347, 0.03521991, 0.03904634, 0.04287277, 0.0466992 ,\n",
              "        0.05052563, 0.05435207, 0.0581785 , 0.06200493, 0.06583136,\n",
              "        0.06965779, 0.07348423, 0.07731066, 0.08113709, 0.08496352,\n",
              "        0.08878995, 0.09261639, 0.09644282, 0.10026925, 0.10409568,\n",
              "        0.10792211, 0.11174855, 0.11557498, 0.11940141, 0.12322784,\n",
              "        0.12705428, 0.13088071, 0.13470714, 0.13853357, 0.14236   ,\n",
              "        0.14618644, 0.15001287, 0.1538393 , 0.15766573, 0.16149216,\n",
              "        0.1653186 , 0.16914503, 0.17297146, 0.17679789, 0.18062432,\n",
              "        0.18445076, 0.18827719, 0.19210362, 0.19593005, 0.19975648,\n",
              "        0.20358292]),\n",
              " <a list of 50 Patch objects>)"
            ]
          },
          "metadata": {
            "tags": []
          },
          "execution_count": 49
        },
        {
          "output_type": "display_data",
          "data": {
            "image/png": "[encoded data removed]",
            "text/plain": [
              "<Figure size 720x576 with 1 Axes>"
            ]
          },
          "metadata": {
            "tags": [],
            "needs_background": "light"
          }
        }
      ]
    },
    {
      "cell_type": "code",
      "metadata": {
        "colab": {
          "base_uri": "https://localhost:8080/"
        },
        "id": "7euE3sSOCjuc",
        "outputId": "fb89a7ca-23f4-4219-d815-72027d934bac"
      },
      "source": [
        "np.mean(train_loss)"
      ],
      "execution_count": 50,
      "outputs": [
        {
          "output_type": "execute_result",
          "data": {
            "text/plain": [
              "0.04591665004357414"
            ]
          },
          "metadata": {
            "tags": []
          },
          "execution_count": 50
        }
      ]
    },
    {
      "cell_type": "code",
      "metadata": {
        "colab": {
          "base_uri": "https://localhost:8080/"
        },
        "id": "2yji0HYNCtMa",
        "outputId": "c3a3ba15-da4a-493f-d895-983c89f83e17"
      },
      "source": [
        "np.std(train_loss)"
      ],
      "execution_count": 51,
      "outputs": [
        {
          "output_type": "execute_result",
          "data": {
            "text/plain": [
              "0.029755068074325795"
            ]
          },
          "metadata": {
            "tags": []
          },
          "execution_count": 51
        }
      ]
    },
    {
      "cell_type": "code",
      "metadata": {
        "id": "Vx2vv2QkCw2q"
      },
      "source": [
        "threshold = np.mean(train_loss) + 2*np.std(train_loss)"
      ],
      "execution_count": 52,
      "outputs": []
    },
    {
      "cell_type": "code",
      "metadata": {
        "colab": {
          "base_uri": "https://localhost:8080/",
          "height": 752
        },
        "id": "ENTt0VOIC0lH",
        "outputId": "168dd22b-9b0b-449c-8c44-fc77086f2ff9"
      },
      "source": [
        "reconstructions_a = model.predict(anomaly_testX_dataNoise)\n",
        "train_loss_a = tf.keras.losses.mae(reconstructions_a, anomaly_test_data)\n",
        "\n",
        "plt.hist(train_loss_a, bins=50)"
      ],
      "execution_count": 53,
      "outputs": [
        {
          "output_type": "execute_result",
          "data": {
            "text/plain": [
              "(array([ 1.,  0.,  0.,  1.,  3.,  2.,  1.,  0.,  4.,  9., 12., 14., 14.,\n",
              "        26., 29., 44., 46., 47., 51., 32., 29., 14., 22.,  9.,  6.,  2.,\n",
              "         2.,  1.,  1.,  3.,  3.,  1.,  1.,  2.,  0.,  0.,  1.,  0.,  1.,\n",
              "         1.,  0.,  0.,  0.,  0.,  0.,  0.,  0.,  1.,  0.,  1.]),\n",
              " array([0.05147207, 0.05522633, 0.05898059, 0.06273486, 0.06648912,\n",
              "        0.07024338, 0.07399764, 0.0777519 , 0.08150616, 0.08526042,\n",
              "        0.08901469, 0.09276895, 0.09652321, 0.10027747, 0.10403173,\n",
              "        0.10778599, 0.11154025, 0.11529451, 0.11904878, 0.12280304,\n",
              "        0.1265573 , 0.13031156, 0.13406582, 0.13782008, 0.14157434,\n",
              "        0.14532861, 0.14908287, 0.15283713, 0.15659139, 0.16034565,\n",
              "        0.16409991, 0.16785417, 0.17160844, 0.1753627 , 0.17911696,\n",
              "        0.18287122, 0.18662548, 0.19037974, 0.194134  , 0.19788826,\n",
              "        0.20164253, 0.20539679, 0.20915105, 0.21290531, 0.21665957,\n",
              "        0.22041383, 0.22416809, 0.22792236, 0.23167662, 0.23543088,\n",
              "        0.23918514]),\n",
              " <a list of 50 Patch objects>)"
            ]
          },
          "metadata": {
            "tags": []
          },
          "execution_count": 53
        },
        {
          "output_type": "display_data",
          "data": {
            "image/png": "[encoded data removed]",
            "text/plain": [
              "<Figure size 720x576 with 1 Axes>"
            ]
          },
          "metadata": {
            "tags": [],
            "needs_background": "light"
          }
        }
      ]
    },
    {
      "cell_type": "code",
      "metadata": {
        "colab": {
          "base_uri": "https://localhost:8080/",
          "height": 485
        },
        "id": "Mksif9I2C80T",
        "outputId": "08fa5c9f-c7ae-47ae-8c4b-22fa525adf38"
      },
      "source": [
        "plt.hist(train_loss, bins=50, label='normal')\n",
        "plt.hist(train_loss_a, bins=50, label='anomaly')\n",
        "plt.axvline(threshold, color='r', linewidth=3, linestyle='dashed', label='{:0.3f}'.format(threshold))\n",
        "plt.legend(loc='upper right')\n",
        "plt.show()"
      ],
      "execution_count": 54,
      "outputs": [
        {
          "output_type": "display_data",
          "data": {
            "image/png": "[encoded data removed]",
            "text/plain": [
              "<Figure size 720x576 with 1 Axes>"
            ]
          },
          "metadata": {
            "tags": [],
            "needs_background": "light"
          }
        }
      ]
    },
    {
      "cell_type": "code",
      "metadata": {
        "colab": {
          "base_uri": "https://localhost:8080/"
        },
        "id": "fN_xoC9OF5_D",
        "outputId": "971f13df-cd51-43f6-dff6-35623a9408e2"
      },
      "source": [
        "np.mean(train_loss_a)"
      ],
      "execution_count": 55,
      "outputs": [
        {
          "output_type": "execute_result",
          "data": {
            "text/plain": [
              "0.11722944446687308"
            ]
          },
          "metadata": {
            "tags": []
          },
          "execution_count": 55
        }
      ]
    },
    {
      "cell_type": "code",
      "metadata": {
        "colab": {
          "base_uri": "https://localhost:8080/"
        },
        "id": "5aFxqc__F9Kc",
        "outputId": "29e91100-e8b7-4a70-9e65-59f7ed710a74"
      },
      "source": [
        "\n",
        "np.std(train_loss_a)"
      ],
      "execution_count": 56,
      "outputs": [
        {
          "output_type": "execute_result",
          "data": {
            "text/plain": [
              "0.01978064507886626"
            ]
          },
          "metadata": {
            "tags": []
          },
          "execution_count": 56
        }
      ]
    },
    {
      "cell_type": "code",
      "metadata": {
        "colab": {
          "base_uri": "https://localhost:8080/"
        },
        "id": "bO0mJNfWF_3k",
        "outputId": "a35a961c-8cdf-4105-aed4-eedde96d455d"
      },
      "source": [
        "tf.math.less(train_loss, threshold)"
      ],
      "execution_count": 57,
      "outputs": [
        {
          "output_type": "execute_result",
          "data": {
            "text/plain": [
              "<tf.Tensor: shape=(563,), dtype=bool, numpy=\n",
              "array([ True,  True,  True,  True,  True,  True,  True,  True,  True,\n",
              "        True,  True,  True,  True,  True,  True, False,  True,  True,\n",
              "        True,  True,  True,  True,  True,  True,  True,  True,  True,\n",
              "        True,  True,  True,  True,  True,  True,  True,  True,  True,\n",
              "        True,  True, False,  True,  True,  True,  True,  True,  True,\n",
              "        True,  True,  True,  True,  True,  True,  True,  True,  True,\n",
              "        True,  True,  True,  True,  True,  True,  True,  True,  True,\n",
              "        True,  True,  True,  True,  True,  True,  True,  True,  True,\n",
              "        True,  True,  True,  True,  True,  True,  True, False,  True,\n",
              "        True,  True,  True,  True,  True,  True,  True,  True,  True,\n",
              "        True,  True,  True,  True,  True,  True,  True,  True,  True,\n",
              "        True,  True,  True,  True,  True,  True,  True,  True,  True,\n",
              "        True,  True,  True, False,  True,  True,  True,  True,  True,\n",
              "        True,  True,  True,  True,  True,  True,  True,  True,  True,\n",
              "        True,  True,  True,  True,  True,  True, False,  True,  True,\n",
              "        True,  True,  True,  True,  True,  True,  True,  True,  True,\n",
              "        True,  True,  True,  True,  True,  True, False,  True, False,\n",
              "        True,  True,  True,  True,  True,  True,  True,  True,  True,\n",
              "        True,  True,  True,  True,  True,  True,  True,  True,  True,\n",
              "        True,  True,  True,  True,  True,  True,  True,  True,  True,\n",
              "        True,  True,  True,  True,  True,  True,  True,  True,  True,\n",
              "        True,  True,  True,  True,  True,  True,  True,  True,  True,\n",
              "        True,  True,  True,  True,  True,  True,  True, False,  True,\n",
              "        True,  True,  True,  True,  True,  True,  True,  True,  True,\n",
              "        True,  True,  True,  True,  True,  True,  True,  True,  True,\n",
              "        True,  True,  True,  True,  True,  True, False,  True,  True,\n",
              "        True, False,  True,  True,  True,  True,  True,  True,  True,\n",
              "        True,  True,  True,  True,  True,  True,  True,  True,  True,\n",
              "        True,  True,  True,  True,  True,  True, False,  True,  True,\n",
              "       False,  True,  True,  True,  True,  True,  True,  True,  True,\n",
              "        True,  True,  True,  True,  True,  True,  True,  True,  True,\n",
              "        True,  True,  True,  True,  True,  True,  True,  True,  True,\n",
              "        True,  True,  True,  True,  True,  True,  True,  True,  True,\n",
              "        True,  True,  True,  True,  True,  True,  True,  True,  True,\n",
              "        True,  True,  True,  True,  True,  True,  True,  True,  True,\n",
              "        True,  True,  True,  True,  True,  True,  True,  True,  True,\n",
              "        True,  True,  True,  True,  True,  True,  True,  True,  True,\n",
              "        True,  True,  True,  True,  True,  True,  True,  True,  True,\n",
              "        True, False,  True,  True,  True,  True,  True,  True,  True,\n",
              "        True,  True,  True,  True,  True,  True,  True, False,  True,\n",
              "        True,  True,  True,  True,  True,  True,  True,  True,  True,\n",
              "        True,  True,  True,  True,  True,  True,  True,  True,  True,\n",
              "        True,  True,  True, False, False,  True, False,  True,  True,\n",
              "       False, False,  True,  True,  True,  True,  True,  True,  True,\n",
              "        True,  True,  True,  True,  True,  True,  True,  True,  True,\n",
              "       False,  True,  True,  True,  True,  True,  True,  True,  True,\n",
              "        True,  True,  True,  True,  True,  True,  True,  True,  True,\n",
              "       False,  True,  True,  True,  True,  True,  True, False,  True,\n",
              "        True,  True,  True,  True, False,  True,  True,  True,  True,\n",
              "        True,  True,  True,  True,  True,  True,  True,  True,  True,\n",
              "        True,  True,  True,  True,  True,  True,  True, False,  True,\n",
              "        True,  True,  True,  True,  True,  True,  True,  True,  True,\n",
              "        True,  True,  True,  True,  True,  True,  True,  True,  True,\n",
              "        True,  True,  True,  True,  True,  True,  True,  True,  True,\n",
              "        True,  True,  True,  True,  True,  True, False,  True,  True,\n",
              "        True,  True,  True,  True,  True,  True,  True,  True,  True,\n",
              "        True,  True,  True,  True,  True,  True,  True,  True,  True,\n",
              "        True,  True,  True,  True,  True,  True,  True,  True,  True,\n",
              "        True, False,  True,  True,  True,  True,  True,  True,  True,\n",
              "        True,  True,  True,  True,  True,  True,  True, False,  True,\n",
              "        True,  True,  True,  True,  True, False,  True,  True,  True,\n",
              "        True,  True,  True,  True,  True,  True,  True,  True,  True,\n",
              "        True,  True,  True,  True,  True])>"
            ]
          },
          "metadata": {
            "tags": []
          },
          "execution_count": 57
        }
      ]
    },
    {
      "cell_type": "code",
      "metadata": {
        "id": "C92gLmzpGDFn"
      },
      "source": [
        "preds = tf.math.less(train_loss, threshold)"
      ],
      "execution_count": 58,
      "outputs": []
    },
    {
      "cell_type": "code",
      "metadata": {
        "colab": {
          "base_uri": "https://localhost:8080/"
        },
        "id": "3lvRPJlXGFqX",
        "outputId": "1f06b2eb-bb14-4cde-9685-f5a95aeed53b"
      },
      "source": [
        "\n",
        "tf.math.count_nonzero(preds)"
      ],
      "execution_count": 59,
      "outputs": [
        {
          "output_type": "execute_result",
          "data": {
            "text/plain": [
              "<tf.Tensor: shape=(), dtype=int64, numpy=535>"
            ]
          },
          "metadata": {
            "tags": []
          },
          "execution_count": 59
        }
      ]
    },
    {
      "cell_type": "code",
      "metadata": {
        "colab": {
          "base_uri": "https://localhost:8080/"
        },
        "id": "W9djmDXLGIN9",
        "outputId": "d37d1fbd-6f3b-46c6-9870-1044ab3ad107"
      },
      "source": [
        "preds.shape"
      ],
      "execution_count": 60,
      "outputs": [
        {
          "output_type": "execute_result",
          "data": {
            "text/plain": [
              "TensorShape([563])"
            ]
          },
          "metadata": {
            "tags": []
          },
          "execution_count": 60
        }
      ]
    },
    {
      "cell_type": "code",
      "metadata": {
        "id": "MCBOeggKGJTR"
      },
      "source": [
        "\n",
        "preds_a = tf.math.greater(train_loss_a, threshold)"
      ],
      "execution_count": 62,
      "outputs": []
    },
    {
      "cell_type": "code",
      "metadata": {
        "colab": {
          "base_uri": "https://localhost:8080/"
        },
        "id": "eULQ-bzrGMMx",
        "outputId": "47bf578d-d0fa-48b7-cc4d-755b918ddf6b"
      },
      "source": [
        "tf.math.count_nonzero(preds_a)"
      ],
      "execution_count": 63,
      "outputs": [
        {
          "output_type": "execute_result",
          "data": {
            "text/plain": [
              "<tf.Tensor: shape=(), dtype=int64, numpy=344>"
            ]
          },
          "metadata": {
            "tags": []
          },
          "execution_count": 63
        }
      ]
    },
    {
      "cell_type": "code",
      "metadata": {
        "colab": {
          "base_uri": "https://localhost:8080/"
        },
        "id": "Ql1B795EGPxs",
        "outputId": "1122c9d1-2895-4517-8da8-0bb8ee0fbd9a"
      },
      "source": [
        "preds_a.shape"
      ],
      "execution_count": 64,
      "outputs": [
        {
          "output_type": "execute_result",
          "data": {
            "text/plain": [
              "TensorShape([437])"
            ]
          },
          "metadata": {
            "tags": []
          },
          "execution_count": 64
        }
      ]
    }
  ]
}